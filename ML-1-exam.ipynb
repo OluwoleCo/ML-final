{
 "cells": [
  {
   "cell_type": "markdown",
   "metadata": {},
   "source": [
    "# ML Exam "
   ]
  },
  {
   "cell_type": "markdown",
   "metadata": {},
   "source": [
    "You have 1 hour and 45 minutes for this exam. You cannot `import` or directly use functions from the fast.ai library. "
   ]
  },
  {
   "cell_type": "code",
   "execution_count": 2,
   "metadata": {},
   "outputs": [],
   "source": [
    "import numpy as np\n",
    "import pandas as pd\n",
    "from sklearn.ensemble import RandomForestRegressor, RandomForestClassifier\n",
    "from sklearn import metrics"
   ]
  },
  {
   "cell_type": "markdown",
   "metadata": {},
   "source": [
    "## Question 1\n",
    "(2 point) Given the following dataframe, write a function that uses pandas to one-hot encode categorical variables. Return the transformed dataframe."
   ]
  },
  {
   "cell_type": "code",
   "execution_count": 5,
   "metadata": {},
   "outputs": [],
   "source": [
    "df = pd.DataFrame({\"Col1\": [1,2,3], \"Col2\": [\"a\", \"a\", \"c\"], \"Col3\": [\"blue\", \"red\", \"red\"]})"
   ]
  },
  {
   "cell_type": "code",
   "execution_count": 3,
   "metadata": {},
   "outputs": [],
   "source": [
    "def one_hot_encodings(df):\n",
    "    # your code here\n",
    "    \n",
    "    return df"
   ]
  },
  {
   "cell_type": "code",
   "execution_count": 4,
   "metadata": {},
   "outputs": [],
   "source": [
    "one_hot_encodings(df)"
   ]
  },
  {
   "cell_type": "markdown",
   "metadata": {},
   "source": [
    "## Question 2\n",
    "(5 points) Given the following train and test dataframes, write a function that scales (normalizes) numerical variables. Return the transformed dataframes."
   ]
  },
  {
   "cell_type": "code",
   "execution_count": 4,
   "metadata": {},
   "outputs": [],
   "source": [
    "dtrain = pd.DataFrame({\"A\": [1000, 765, 800], \"B\": [10, 5, 7], \"C\": [0.5, 0.35, 0.09]})\n",
    "dtest = pd.DataFrame({\"A\": [900, 750, 1010], \"B\": [6, 4, 11], \"C\": [0.3, 0.4, 0.1]})"
   ]
  },
  {
   "cell_type": "code",
   "execution_count": 8,
   "metadata": {},
   "outputs": [],
   "source": [
    "def scale(dtrain, dtest):\n",
    "    # your code here\n",
    "    \n",
    "    return dtrain, dtest"
   ]
  },
  {
   "cell_type": "code",
   "execution_count": 9,
   "metadata": {},
   "outputs": [],
   "source": [
    "dt, dte = scale(dtrain, dtest)\n",
    "print(dte)"
   ]
  },
  {
   "cell_type": "markdown",
   "metadata": {},
   "source": [
    "## Question 3\n",
    "(10 points) Given the data in train_small.csv and test_small.csv, write a function that returns two dataframes with numeric encoding ready to be used by a Random Forest."
   ]
  },
  {
   "cell_type": "code",
   "execution_count": 12,
   "metadata": {},
   "outputs": [],
   "source": [
    "def process_dfs(train_file, test_file):\n",
    "    \"\"\"\n",
    "    Transforms categorical features from train and test file into numeric features.\n",
    "    \n",
    "    Arguments:\n",
    "    train_file, test_file\n",
    "    \n",
    "    Returns:\n",
    "    train_df, test_df: train and test dataframes\n",
    "    \"\"\"\n",
    "    \n",
    "    return train_df, test_df"
   ]
  },
  {
   "cell_type": "code",
   "execution_count": 13,
   "metadata": {},
   "outputs": [],
   "source": [
    "train, test = process_dfs(\"train_small.csv\", \"test_small.csv\")"
   ]
  },
  {
   "cell_type": "code",
   "execution_count": null,
   "metadata": {},
   "outputs": [],
   "source": [
    "test.head()"
   ]
  },
  {
   "cell_type": "code",
   "execution_count": null,
   "metadata": {},
   "outputs": [],
   "source": [
    "train.head()"
   ]
  },
  {
   "cell_type": "markdown",
   "metadata": {},
   "source": [
    "## Question 4\n",
    "Given the data in train_clean.csv and test_clean.csv, train a regressor model that best predicts column `income` using Random Forest. Note that data is already clean. Follow these steps:\n",
    "\n",
    "* Read data into pandas dataframe (into train and test). Do train.head() and test.head() (1 points)\n",
    "* Report test accuracy and train accuracy running random forest with default values. (5 points)\n",
    "* Tune hyper-parameters. (5 points)\n",
    "* Plot feature importance. Would you get rid of some features? Explain. (5 points)"
   ]
  },
  {
   "cell_type": "markdown",
   "metadata": {},
   "source": [
    "### Read dataframes (1 points)\n",
    "Do train.head() and test.head()"
   ]
  },
  {
   "cell_type": "markdown",
   "metadata": {},
   "source": [
    "### Report test accuracy and train accuracy running random forest with default values (5 points)"
   ]
  },
  {
   "cell_type": "markdown",
   "metadata": {},
   "source": [
    "### Tune hyper-parameters (5 points).\n",
    "Tune `max_features` and `max_depth` while keeping `n_estimators=50`, `min_samples_split=10` and all other parameters as default. Show a plot or table to explaining your work."
   ]
  },
  {
   "cell_type": "markdown",
   "metadata": {},
   "source": [
    "### Plot feature importance.  Explain (5 points)\n",
    "Using the values of your best parameters from the previous question plot feature importance. Would you get rid of some features? Report train and test accuracy with your final features and best parameters."
   ]
  }
 ],
 "metadata": {
  "kernelspec": {
   "display_name": "Python 3",
   "language": "python",
   "name": "python3"
  },
  "language_info": {
   "codemirror_mode": {
    "name": "ipython",
    "version": 3
   },
   "file_extension": ".py",
   "mimetype": "text/x-python",
   "name": "python",
   "nbconvert_exporter": "python",
   "pygments_lexer": "ipython3",
   "version": "3.6.3"
  },
  "toc": {
   "nav_menu": {},
   "number_sections": true,
   "sideBar": true,
   "skip_h1_title": false,
   "toc_cell": false,
   "toc_position": {},
   "toc_section_display": "block",
   "toc_window_display": false
  }
 },
 "nbformat": 4,
 "nbformat_minor": 2
}
